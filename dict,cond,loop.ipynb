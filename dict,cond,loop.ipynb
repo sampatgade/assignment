{
 "cells": [
  {
   "cell_type": "code",
   "execution_count": 23,
   "id": "4f00d90c-2559-4a91-baca-4bd664ecbb03",
   "metadata": {},
   "outputs": [],
   "source": [
    "l=[1,345,45,'sudh', True,(5+7j),345.456]"
   ]
  },
  {
   "cell_type": "code",
   "execution_count": 2,
   "id": "78a8bbc6-fab2-47c5-85be-a4465e506b27",
   "metadata": {},
   "outputs": [
    {
     "data": {
      "text/plain": [
       "[1, 345, 45, 'sudh', True, (5+7j), 345.456]"
      ]
     },
     "execution_count": 2,
     "metadata": {},
     "output_type": "execute_result"
    }
   ],
   "source": [
    "l"
   ]
  },
  {
   "cell_type": "code",
   "execution_count": 3,
   "id": "454f14a5-32d4-49a2-9dcc-106afa5fef50",
   "metadata": {},
   "outputs": [
    {
     "data": {
      "text/plain": [
       "7"
      ]
     },
     "execution_count": 3,
     "metadata": {},
     "output_type": "execute_result"
    }
   ],
   "source": [
    "len(l)"
   ]
  },
  {
   "cell_type": "code",
   "execution_count": 4,
   "id": "0ce8ec17-febf-48db-9400-ec92cbcace82",
   "metadata": {},
   "outputs": [],
   "source": [
    "l.append(5)"
   ]
  },
  {
   "cell_type": "code",
   "execution_count": 5,
   "id": "2e24de49-e13a-42b7-ab7b-e6168cd2374a",
   "metadata": {},
   "outputs": [
    {
     "data": {
      "text/plain": [
       "[1, 345, 45, 'sudh', True, (5+7j), 345.456, 5]"
      ]
     },
     "execution_count": 5,
     "metadata": {},
     "output_type": "execute_result"
    }
   ],
   "source": [
    "l"
   ]
  },
  {
   "cell_type": "code",
   "execution_count": 6,
   "id": "36910686-b5d7-486f-95c7-08495754d14d",
   "metadata": {},
   "outputs": [
    {
     "ename": "NameError",
     "evalue": "name 's' is not defined",
     "output_type": "error",
     "traceback": [
      "\u001b[0;31m---------------------------------------------------------------------------\u001b[0m",
      "\u001b[0;31mNameError\u001b[0m                                 Traceback (most recent call last)",
      "Cell \u001b[0;32mIn[6], line 1\u001b[0m\n\u001b[0;32m----> 1\u001b[0m l\u001b[38;5;241m.\u001b[39mappend(\u001b[43ms\u001b[49m)\n",
      "\u001b[0;31mNameError\u001b[0m: name 's' is not defined"
     ]
    }
   ],
   "source": [
    "l.append(s)"
   ]
  },
  {
   "cell_type": "code",
   "execution_count": 7,
   "id": "faa4c33a-aebe-470b-8e62-5c629d5032df",
   "metadata": {},
   "outputs": [],
   "source": [
    "s='pwskills'\n"
   ]
  },
  {
   "cell_type": "code",
   "execution_count": 8,
   "id": "9ea211c7-b2fa-481b-9e9e-913437846c68",
   "metadata": {},
   "outputs": [],
   "source": [
    "l.append(s)"
   ]
  },
  {
   "cell_type": "code",
   "execution_count": 9,
   "id": "55fc15f2-d975-4540-9008-21b3d96fc7a0",
   "metadata": {},
   "outputs": [
    {
     "data": {
      "text/plain": [
       "'pwskills'"
      ]
     },
     "execution_count": 9,
     "metadata": {},
     "output_type": "execute_result"
    }
   ],
   "source": [
    "s"
   ]
  },
  {
   "cell_type": "code",
   "execution_count": 10,
   "id": "7fe5e4fe-8728-438b-a9cb-e60c98e4d76d",
   "metadata": {},
   "outputs": [],
   "source": [
    "l.append(s)"
   ]
  },
  {
   "cell_type": "code",
   "execution_count": 11,
   "id": "25c2da33-eed9-4982-8512-be831a79c5a3",
   "metadata": {},
   "outputs": [
    {
     "data": {
      "text/plain": [
       "[1, 345, 45, 'sudh', True, (5+7j), 345.456, 5, 'pwskills', 'pwskills']"
      ]
     },
     "execution_count": 11,
     "metadata": {},
     "output_type": "execute_result"
    }
   ],
   "source": [
    "l"
   ]
  },
  {
   "cell_type": "code",
   "execution_count": 12,
   "id": "288c7f41-7b97-4510-ac98-4a62a1e427ad",
   "metadata": {},
   "outputs": [],
   "source": [
    "l1=[3,5,8]\n"
   ]
  },
  {
   "cell_type": "code",
   "execution_count": 13,
   "id": "d7e992ca-6803-43f3-97e4-9c07205a31c7",
   "metadata": {},
   "outputs": [],
   "source": [
    "l.append(l1)"
   ]
  },
  {
   "cell_type": "code",
   "execution_count": 14,
   "id": "ff7b360a-2e8d-489b-a20f-35f3da9450d4",
   "metadata": {},
   "outputs": [
    {
     "data": {
      "text/plain": [
       "[1,\n",
       " 345,\n",
       " 45,\n",
       " 'sudh',\n",
       " True,\n",
       " (5+7j),\n",
       " 345.456,\n",
       " 5,\n",
       " 'pwskills',\n",
       " 'pwskills',\n",
       " [3, 5, 8]]"
      ]
     },
     "execution_count": 14,
     "metadata": {},
     "output_type": "execute_result"
    }
   ],
   "source": [
    "l"
   ]
  },
  {
   "cell_type": "code",
   "execution_count": 16,
   "id": "2ae3f088-0237-4d77-ab29-d301d1a882e0",
   "metadata": {},
   "outputs": [
    {
     "data": {
      "text/plain": [
       "5"
      ]
     },
     "execution_count": 16,
     "metadata": {},
     "output_type": "execute_result"
    }
   ],
   "source": [
    "l[-1][1]"
   ]
  },
  {
   "cell_type": "code",
   "execution_count": 17,
   "id": "64a08fe1-2dca-4324-bdaa-1222be63c431",
   "metadata": {},
   "outputs": [
    {
     "ename": "TypeError",
     "evalue": "'int' object is not iterable",
     "output_type": "error",
     "traceback": [
      "\u001b[0;31m---------------------------------------------------------------------------\u001b[0m",
      "\u001b[0;31mTypeError\u001b[0m                                 Traceback (most recent call last)",
      "Cell \u001b[0;32mIn[17], line 1\u001b[0m\n\u001b[0;32m----> 1\u001b[0m \u001b[43ml\u001b[49m\u001b[38;5;241;43m.\u001b[39;49m\u001b[43mextend\u001b[49m\u001b[43m(\u001b[49m\u001b[38;5;241;43m4\u001b[39;49m\u001b[43m)\u001b[49m\n",
      "\u001b[0;31mTypeError\u001b[0m: 'int' object is not iterable"
     ]
    }
   ],
   "source": [
    "l.extend(4)"
   ]
  },
  {
   "cell_type": "code",
   "execution_count": 19,
   "id": "44be905d-0e9e-4732-9dfe-578990dde87f",
   "metadata": {},
   "outputs": [],
   "source": [
    "l.extend(\"sudh\")"
   ]
  },
  {
   "cell_type": "code",
   "execution_count": 20,
   "id": "725bb18f-4ea2-46f2-8826-909466d8589c",
   "metadata": {},
   "outputs": [
    {
     "data": {
      "text/plain": [
       "[1,\n",
       " 345,\n",
       " 45,\n",
       " 'sudh',\n",
       " True,\n",
       " (5+7j),\n",
       " 345.456,\n",
       " 5,\n",
       " 'pwskills',\n",
       " 'pwskills',\n",
       " [3, 5, 8],\n",
       " 's',\n",
       " 'u',\n",
       " 'd',\n",
       " 'h']"
      ]
     },
     "execution_count": 20,
     "metadata": {},
     "output_type": "execute_result"
    }
   ],
   "source": [
    "l"
   ]
  },
  {
   "cell_type": "code",
   "execution_count": 21,
   "id": "9ebe0ca6-a8ed-4ac5-b597-10b31c1ca7d7",
   "metadata": {},
   "outputs": [
    {
     "data": {
      "text/plain": [
       "[3, 5, 8]"
      ]
     },
     "execution_count": 21,
     "metadata": {},
     "output_type": "execute_result"
    }
   ],
   "source": [
    "l1\n"
   ]
  },
  {
   "cell_type": "code",
   "execution_count": 22,
   "id": "3a75ec44-a52c-41b3-b2b6-3e328f4ea1bd",
   "metadata": {},
   "outputs": [],
   "source": [
    "h=[9]"
   ]
  },
  {
   "cell_type": "code",
   "execution_count": 24,
   "id": "4cac8135-0e64-40c1-9575-6295997a570c",
   "metadata": {},
   "outputs": [],
   "source": [
    "l1.insert(1,\"Rohit\")"
   ]
  },
  {
   "cell_type": "code",
   "execution_count": 25,
   "id": "0f9b078a-07a8-4a8e-b98a-d91276ca06e3",
   "metadata": {},
   "outputs": [
    {
     "data": {
      "text/plain": [
       "[3, 'Rohit', 5, 8]"
      ]
     },
     "execution_count": 25,
     "metadata": {},
     "output_type": "execute_result"
    }
   ],
   "source": [
    "l1"
   ]
  },
  {
   "cell_type": "code",
   "execution_count": 28,
   "id": "edc7ac7b-4559-4ded-82ea-ada89b32edd5",
   "metadata": {},
   "outputs": [],
   "source": [
    "l1.insert(2,[2,4,8])"
   ]
  },
  {
   "cell_type": "code",
   "execution_count": 29,
   "id": "45639157-60a4-41d8-b82f-0f7ad710b6df",
   "metadata": {},
   "outputs": [
    {
     "data": {
      "text/plain": [
       "[3, 'Rohit', [2, 4, 8], [2, 4, 8], 5, 8]"
      ]
     },
     "execution_count": 29,
     "metadata": {},
     "output_type": "execute_result"
    }
   ],
   "source": [
    "l1"
   ]
  },
  {
   "cell_type": "code",
   "execution_count": null,
   "id": "e2791c0c-5bb9-4745-8700-4b57e18bfa66",
   "metadata": {},
   "outputs": [],
   "source": []
  },
  {
   "cell_type": "code",
   "execution_count": 30,
   "id": "4d1f1093-2226-47a0-8c44-4b20e96e4382",
   "metadata": {},
   "outputs": [
    {
     "data": {
      "text/plain": [
       "[3, 'Rohit', [2, 4, 8], [2, 4, 8], 5, 8]"
      ]
     },
     "execution_count": 30,
     "metadata": {},
     "output_type": "execute_result"
    }
   ],
   "source": [
    "l1"
   ]
  },
  {
   "cell_type": "code",
   "execution_count": 31,
   "id": "54afed7f-e3fc-4769-9e9b-af1be98d5025",
   "metadata": {},
   "outputs": [],
   "source": [
    "l1.insert(-1,45)"
   ]
  },
  {
   "cell_type": "code",
   "execution_count": 32,
   "id": "9f8ad0f3-bf63-4770-b948-7a5f288d0a4f",
   "metadata": {},
   "outputs": [
    {
     "data": {
      "text/plain": [
       "[3, 'Rohit', [2, 4, 8], [2, 4, 8], 5, 45, 8]"
      ]
     },
     "execution_count": 32,
     "metadata": {},
     "output_type": "execute_result"
    }
   ],
   "source": [
    "l1"
   ]
  },
  {
   "cell_type": "code",
   "execution_count": 33,
   "id": "49e802e2-e127-45c2-9b53-5448aa7b81d1",
   "metadata": {},
   "outputs": [],
   "source": [
    "l1.insert(-1,55)"
   ]
  },
  {
   "cell_type": "code",
   "execution_count": 34,
   "id": "64a5d7e7-2e94-4616-8a1a-6e68fd15c194",
   "metadata": {},
   "outputs": [
    {
     "data": {
      "text/plain": [
       "[3, 'Rohit', [2, 4, 8], [2, 4, 8], 5, 45, 55, 8]"
      ]
     },
     "execution_count": 34,
     "metadata": {},
     "output_type": "execute_result"
    }
   ],
   "source": [
    "l1"
   ]
  },
  {
   "cell_type": "code",
   "execution_count": 35,
   "id": "ee2f6079-4dc2-4873-9d57-670aca2f89b0",
   "metadata": {},
   "outputs": [],
   "source": [
    "l1.insert(0,55)"
   ]
  },
  {
   "cell_type": "code",
   "execution_count": 36,
   "id": "ed8fa095-97ff-49c1-b658-8dd45d26cf16",
   "metadata": {},
   "outputs": [
    {
     "data": {
      "text/plain": [
       "[55, 3, 'Rohit', [2, 4, 8], [2, 4, 8], 5, 45, 55, 8]"
      ]
     },
     "execution_count": 36,
     "metadata": {},
     "output_type": "execute_result"
    }
   ],
   "source": [
    "l1"
   ]
  },
  {
   "cell_type": "code",
   "execution_count": 37,
   "id": "025a6490-32b9-412c-a6bb-4107b072ef99",
   "metadata": {},
   "outputs": [
    {
     "data": {
      "text/plain": [
       "8"
      ]
     },
     "execution_count": 37,
     "metadata": {},
     "output_type": "execute_result"
    }
   ],
   "source": [
    "l1.pop()"
   ]
  },
  {
   "cell_type": "code",
   "execution_count": 38,
   "id": "639ca8c5-44aa-4a90-b2f5-e40c7b5b078c",
   "metadata": {},
   "outputs": [
    {
     "data": {
      "text/plain": [
       "[55, 3, 'Rohit', [2, 4, 8], [2, 4, 8], 5, 45, 55]"
      ]
     },
     "execution_count": 38,
     "metadata": {},
     "output_type": "execute_result"
    }
   ],
   "source": [
    "l1"
   ]
  },
  {
   "cell_type": "code",
   "execution_count": 39,
   "id": "80f14026-73db-4696-868a-3131f8d2ccb4",
   "metadata": {},
   "outputs": [
    {
     "data": {
      "text/plain": [
       "45"
      ]
     },
     "execution_count": 39,
     "metadata": {},
     "output_type": "execute_result"
    }
   ],
   "source": [
    "l1.pop(-2)"
   ]
  },
  {
   "cell_type": "code",
   "execution_count": 40,
   "id": "67555d04-f8a7-476e-b99c-872ec4ed482f",
   "metadata": {},
   "outputs": [
    {
     "data": {
      "text/plain": [
       "[55, 3, 'Rohit', [2, 4, 8], [2, 4, 8], 5, 55]"
      ]
     },
     "execution_count": 40,
     "metadata": {},
     "output_type": "execute_result"
    }
   ],
   "source": [
    "l1"
   ]
  },
  {
   "cell_type": "code",
   "execution_count": 41,
   "id": "e78aa590-17b2-41d6-9774-4b94da0c494e",
   "metadata": {},
   "outputs": [
    {
     "data": {
      "text/plain": [
       "45"
      ]
     },
     "execution_count": 41,
     "metadata": {},
     "output_type": "execute_result"
    }
   ],
   "source": [
    "l.pop(2)"
   ]
  },
  {
   "cell_type": "code",
   "execution_count": 42,
   "id": "ebe1f959-2ce1-4d1e-b24a-114d46c917d5",
   "metadata": {},
   "outputs": [
    {
     "data": {
      "text/plain": [
       "[55, 3, 'Rohit', [2, 4, 8], [2, 4, 8], 5, 55]"
      ]
     },
     "execution_count": 42,
     "metadata": {},
     "output_type": "execute_result"
    }
   ],
   "source": [
    "l1"
   ]
  },
  {
   "cell_type": "code",
   "execution_count": 43,
   "id": "c7242b6c-8986-42dd-b7ec-bbf2cb529031",
   "metadata": {},
   "outputs": [
    {
     "data": {
      "text/plain": [
       "True"
      ]
     },
     "execution_count": 43,
     "metadata": {},
     "output_type": "execute_result"
    }
   ],
   "source": [
    "l.pop(3)"
   ]
  },
  {
   "cell_type": "code",
   "execution_count": 44,
   "id": "105cb2c2-fab6-4870-a4bf-e16bd9e08509",
   "metadata": {},
   "outputs": [
    {
     "data": {
      "text/plain": [
       "[2, 4, 8]"
      ]
     },
     "execution_count": 44,
     "metadata": {},
     "output_type": "execute_result"
    }
   ],
   "source": [
    "l1.pop(3)"
   ]
  },
  {
   "cell_type": "code",
   "execution_count": 45,
   "id": "08ebdda2-890b-40db-a30f-32e61369a44e",
   "metadata": {},
   "outputs": [
    {
     "data": {
      "text/plain": [
       "[55, 3, 'Rohit', [2, 4, 8], 5, 55]"
      ]
     },
     "execution_count": 45,
     "metadata": {},
     "output_type": "execute_result"
    }
   ],
   "source": [
    "l1"
   ]
  },
  {
   "cell_type": "code",
   "execution_count": 46,
   "id": "ab31ad4f-102c-4ded-98ce-010db328e3cb",
   "metadata": {},
   "outputs": [
    {
     "data": {
      "text/plain": [
       "[55, 3, 'Rohit', [2, 4, 8], 5, 55]"
      ]
     },
     "execution_count": 46,
     "metadata": {},
     "output_type": "execute_result"
    }
   ],
   "source": [
    "l1"
   ]
  },
  {
   "cell_type": "code",
   "execution_count": 48,
   "id": "7e757c20-39dc-43f3-a0b7-e1519fc7ee37",
   "metadata": {},
   "outputs": [],
   "source": [
    "l1.remove(55)"
   ]
  },
  {
   "cell_type": "code",
   "execution_count": 49,
   "id": "f2d1c11c-3bc0-4482-9039-1d482e83b0e6",
   "metadata": {},
   "outputs": [
    {
     "data": {
      "text/plain": [
       "[3, 'Rohit', [2, 4, 8], 5, 55]"
      ]
     },
     "execution_count": 49,
     "metadata": {},
     "output_type": "execute_result"
    }
   ],
   "source": [
    "l1"
   ]
  },
  {
   "cell_type": "code",
   "execution_count": 50,
   "id": "08b40a31-79ee-42be-b68a-d7024fa25cf2",
   "metadata": {},
   "outputs": [],
   "source": [
    "l1.remove(3)"
   ]
  },
  {
   "cell_type": "code",
   "execution_count": 51,
   "id": "611e98ad-5095-4b0a-8635-863ad3c8f366",
   "metadata": {},
   "outputs": [
    {
     "data": {
      "text/plain": [
       "['Rohit', [2, 4, 8], 5, 55]"
      ]
     },
     "execution_count": 51,
     "metadata": {},
     "output_type": "execute_result"
    }
   ],
   "source": [
    "l1"
   ]
  },
  {
   "cell_type": "code",
   "execution_count": 56,
   "id": "f3d64036-251f-4a37-933e-bd8a720881c6",
   "metadata": {},
   "outputs": [],
   "source": [
    "l1[1].remove(4)"
   ]
  },
  {
   "cell_type": "code",
   "execution_count": 57,
   "id": "a2e5af3c-fe8f-42d2-8209-4c874c279e2a",
   "metadata": {},
   "outputs": [
    {
     "data": {
      "text/plain": [
       "['Rohit', [2, 8], 5, 55]"
      ]
     },
     "execution_count": 57,
     "metadata": {},
     "output_type": "execute_result"
    }
   ],
   "source": [
    "l1"
   ]
  },
  {
   "cell_type": "code",
   "execution_count": 58,
   "id": "b3490ff7-8ac7-49a4-ad7e-98b5402a72c6",
   "metadata": {},
   "outputs": [],
   "source": [
    "l1.append(55)"
   ]
  },
  {
   "cell_type": "code",
   "execution_count": 59,
   "id": "cd8de4f1-df2f-435f-99be-9cb8d98d2422",
   "metadata": {},
   "outputs": [
    {
     "data": {
      "text/plain": [
       "['Rohit', [2, 8], 5, 55, 55]"
      ]
     },
     "execution_count": 59,
     "metadata": {},
     "output_type": "execute_result"
    }
   ],
   "source": [
    "l1"
   ]
  },
  {
   "cell_type": "code",
   "execution_count": 60,
   "id": "dbf75e00-874e-48ab-b695-8e1ffd71a9c4",
   "metadata": {},
   "outputs": [],
   "source": [
    "l1.remove(55)"
   ]
  },
  {
   "cell_type": "code",
   "execution_count": 61,
   "id": "a16aa06f-b3ab-4967-a1a5-bcd9698783b3",
   "metadata": {},
   "outputs": [
    {
     "data": {
      "text/plain": [
       "['Rohit', [2, 8], 5, 55]"
      ]
     },
     "execution_count": 61,
     "metadata": {},
     "output_type": "execute_result"
    }
   ],
   "source": [
    "l1"
   ]
  },
  {
   "cell_type": "code",
   "execution_count": 62,
   "id": "ec9b934b-e491-43df-834e-9fe52f532ece",
   "metadata": {},
   "outputs": [],
   "source": [
    "l1.remove(55)"
   ]
  },
  {
   "cell_type": "code",
   "execution_count": 63,
   "id": "c8260d20-d91a-4495-ae0c-ca7ab56a7858",
   "metadata": {},
   "outputs": [
    {
     "data": {
      "text/plain": [
       "['Rohit', [2, 8], 5]"
      ]
     },
     "execution_count": 63,
     "metadata": {},
     "output_type": "execute_result"
    }
   ],
   "source": [
    "l1"
   ]
  },
  {
   "cell_type": "code",
   "execution_count": 64,
   "id": "b73dcf12-cb53-4080-910c-4c4ba986a66a",
   "metadata": {},
   "outputs": [
    {
     "ename": "SyntaxError",
     "evalue": "invalid syntax (277950416.py, line 1)",
     "output_type": "error",
     "traceback": [
      "\u001b[0;36m  Cell \u001b[0;32mIn[64], line 1\u001b[0;36m\u001b[0m\n\u001b[0;31m    l1(::-1)\u001b[0m\n\u001b[0m       ^\u001b[0m\n\u001b[0;31mSyntaxError\u001b[0m\u001b[0;31m:\u001b[0m invalid syntax\n"
     ]
    }
   ],
   "source": [
    "l1(::-1)"
   ]
  },
  {
   "cell_type": "code",
   "execution_count": 65,
   "id": "de042384-d74c-4b2a-80b5-0a3c8728b48b",
   "metadata": {},
   "outputs": [
    {
     "data": {
      "text/plain": [
       "[5, [2, 8], 'Rohit']"
      ]
     },
     "execution_count": 65,
     "metadata": {},
     "output_type": "execute_result"
    }
   ],
   "source": [
    "l1[::-1]"
   ]
  },
  {
   "cell_type": "code",
   "execution_count": 1,
   "id": "24d86dba-b0fe-4359-882b-124e21ad481f",
   "metadata": {},
   "outputs": [
    {
     "ename": "NameError",
     "evalue": "name 'l1' is not defined",
     "output_type": "error",
     "traceback": [
      "\u001b[0;31m---------------------------------------------------------------------------\u001b[0m",
      "\u001b[0;31mNameError\u001b[0m                                 Traceback (most recent call last)",
      "Cell \u001b[0;32mIn[1], line 1\u001b[0m\n\u001b[0;32m----> 1\u001b[0m \u001b[43ml1\u001b[49m\u001b[38;5;241m.\u001b[39mreverse()\n",
      "\u001b[0;31mNameError\u001b[0m: name 'l1' is not defined"
     ]
    }
   ],
   "source": [
    "l1.reverse()\n"
   ]
  },
  {
   "cell_type": "code",
   "execution_count": 2,
   "id": "29a01e2f-522f-4940-9377-a7cf7200569d",
   "metadata": {},
   "outputs": [
    {
     "ename": "NameError",
     "evalue": "name 'l1' is not defined",
     "output_type": "error",
     "traceback": [
      "\u001b[0;31m---------------------------------------------------------------------------\u001b[0m",
      "\u001b[0;31mNameError\u001b[0m                                 Traceback (most recent call last)",
      "Cell \u001b[0;32mIn[2], line 1\u001b[0m\n\u001b[0;32m----> 1\u001b[0m \u001b[43ml1\u001b[49m\u001b[38;5;241m.\u001b[39mreverse()\n",
      "\u001b[0;31mNameError\u001b[0m: name 'l1' is not defined"
     ]
    }
   ],
   "source": [
    "l1.reverse()"
   ]
  },
  {
   "cell_type": "code",
   "execution_count": 3,
   "id": "c3805fc6-3af4-47fe-91ed-71aa934e3616",
   "metadata": {},
   "outputs": [
    {
     "ename": "NameError",
     "evalue": "name 'l1' is not defined",
     "output_type": "error",
     "traceback": [
      "\u001b[0;31m---------------------------------------------------------------------------\u001b[0m",
      "\u001b[0;31mNameError\u001b[0m                                 Traceback (most recent call last)",
      "Cell \u001b[0;32mIn[3], line 1\u001b[0m\n\u001b[0;32m----> 1\u001b[0m \u001b[43ml1\u001b[49m\n",
      "\u001b[0;31mNameError\u001b[0m: name 'l1' is not defined"
     ]
    }
   ],
   "source": [
    "l1"
   ]
  },
  {
   "cell_type": "code",
   "execution_count": 4,
   "id": "058c9526-5e8e-4308-88d4-b0d1d314cff9",
   "metadata": {},
   "outputs": [],
   "source": [
    "l1=['Rohit', [2, 8], 5]\n"
   ]
  },
  {
   "cell_type": "code",
   "execution_count": 5,
   "id": "c8e8cd79-5e76-4b45-9f53-d3eb96193af6",
   "metadata": {},
   "outputs": [
    {
     "data": {
      "text/plain": [
       "['Rohit', [2, 8], 5]"
      ]
     },
     "execution_count": 5,
     "metadata": {},
     "output_type": "execute_result"
    }
   ],
   "source": [
    "l1\n"
   ]
  },
  {
   "cell_type": "code",
   "execution_count": 10,
   "id": "91c12271-f782-44cc-b300-7743045f0323",
   "metadata": {},
   "outputs": [],
   "source": [
    "l1=l1[::-1]"
   ]
  },
  {
   "cell_type": "markdown",
   "id": "0e55293b-49a7-40ac-ab32-c8de8774bc8f",
   "metadata": {},
   "source": [
    "# l1.reverse()"
   ]
  },
  {
   "cell_type": "code",
   "execution_count": 9,
   "id": "1214ffb3-c24b-4962-83d1-db2b4dc8fbe2",
   "metadata": {},
   "outputs": [
    {
     "data": {
      "text/plain": [
       "[5, [2, 8], 'Rohit']"
      ]
     },
     "execution_count": 9,
     "metadata": {},
     "output_type": "execute_result"
    }
   ],
   "source": [
    "l1"
   ]
  },
  {
   "cell_type": "code",
   "execution_count": 11,
   "id": "a3a56251-ff3a-488d-8830-93937d82bd89",
   "metadata": {},
   "outputs": [
    {
     "data": {
      "text/plain": [
       "['Rohit', [2, 8], 5]"
      ]
     },
     "execution_count": 11,
     "metadata": {},
     "output_type": "execute_result"
    }
   ],
   "source": [
    "l1"
   ]
  },
  {
   "cell_type": "code",
   "execution_count": 12,
   "id": "642eec24-783f-4a13-b567-c7cce3b9f79b",
   "metadata": {},
   "outputs": [],
   "source": [
    "l2=[3,4,5,6,7,8,9]"
   ]
  },
  {
   "cell_type": "code",
   "execution_count": 13,
   "id": "decbc4f8-b041-48c1-86ff-7608df33a0c5",
   "metadata": {},
   "outputs": [],
   "source": [
    "l2.sort()"
   ]
  },
  {
   "cell_type": "code",
   "execution_count": null,
   "id": "b19cd18c-d6ea-4837-a32c-e01908ebbe6a",
   "metadata": {},
   "outputs": [],
   "source": []
  },
  {
   "cell_type": "code",
   "execution_count": null,
   "id": "156a66f9-5fae-4aef-acea-c0a7909d6e2d",
   "metadata": {},
   "outputs": [],
   "source": []
  },
  {
   "cell_type": "code",
   "execution_count": 14,
   "id": "e629b769-eccb-4b74-87df-f266c2f6e53c",
   "metadata": {},
   "outputs": [
    {
     "data": {
      "text/plain": [
       "[3, 4, 5, 6, 7, 8, 9]"
      ]
     },
     "execution_count": 14,
     "metadata": {},
     "output_type": "execute_result"
    }
   ],
   "source": [
    "l2"
   ]
  },
  {
   "cell_type": "code",
   "execution_count": 15,
   "id": "18a60234-df69-43b3-9761-7bbc5235e756",
   "metadata": {},
   "outputs": [],
   "source": [
    "l2.sort()"
   ]
  },
  {
   "cell_type": "code",
   "execution_count": null,
   "id": "1c75e3d4-7a90-4c51-b304-21b855ecfafb",
   "metadata": {},
   "outputs": [],
   "source": [
    "l3 = [45,23,60,0,34,5,6,7]"
   ]
  },
  {
   "cell_type": "code",
   "execution_count": null,
   "id": "ae0e8aa3-1598-46b0-b34d-d4e7bcdd986a",
   "metadata": {},
   "outputs": [],
   "source": []
  },
  {
   "cell_type": "code",
   "execution_count": 16,
   "id": "30d66784-4a3d-4bfb-b53b-0e53bc1f1f7a",
   "metadata": {},
   "outputs": [
    {
     "ename": "NameError",
     "evalue": "name 'l3' is not defined",
     "output_type": "error",
     "traceback": [
      "\u001b[0;31m---------------------------------------------------------------------------\u001b[0m",
      "\u001b[0;31mNameError\u001b[0m                                 Traceback (most recent call last)",
      "Cell \u001b[0;32mIn[16], line 1\u001b[0m\n\u001b[0;32m----> 1\u001b[0m \u001b[43ml3\u001b[49m\n",
      "\u001b[0;31mNameError\u001b[0m: name 'l3' is not defined"
     ]
    }
   ],
   "source": [
    "l3"
   ]
  },
  {
   "cell_type": "code",
   "execution_count": 17,
   "id": "5a944fa0-7fa2-4abe-813e-ebd324734578",
   "metadata": {},
   "outputs": [],
   "source": [
    "l3 = [45,23,60,0,34,5,6,7]"
   ]
  },
  {
   "cell_type": "code",
   "execution_count": 18,
   "id": "7c9b365b-395c-4331-ba22-7f1623641238",
   "metadata": {},
   "outputs": [
    {
     "data": {
      "text/plain": [
       "[45, 23, 60, 0, 34, 5, 6, 7]"
      ]
     },
     "execution_count": 18,
     "metadata": {},
     "output_type": "execute_result"
    }
   ],
   "source": [
    "l3"
   ]
  },
  {
   "cell_type": "code",
   "execution_count": 19,
   "id": "15424cb2-6195-402f-b8da-74ca6b61ac1b",
   "metadata": {},
   "outputs": [],
   "source": [
    "l3.sort()"
   ]
  },
  {
   "cell_type": "code",
   "execution_count": 20,
   "id": "760f41d7-0b37-4b16-83e6-d4c618754167",
   "metadata": {},
   "outputs": [
    {
     "data": {
      "text/plain": [
       "[0, 5, 6, 7, 23, 34, 45, 60]"
      ]
     },
     "execution_count": 20,
     "metadata": {},
     "output_type": "execute_result"
    }
   ],
   "source": [
    "l3"
   ]
  },
  {
   "cell_type": "code",
   "execution_count": 21,
   "id": "ff62d57d-f5eb-45df-a328-08f0346e0ccf",
   "metadata": {},
   "outputs": [
    {
     "data": {
      "text/plain": [
       "['Rohit', [2, 8], 5]"
      ]
     },
     "execution_count": 21,
     "metadata": {},
     "output_type": "execute_result"
    }
   ],
   "source": [
    "l1"
   ]
  },
  {
   "cell_type": "code",
   "execution_count": 22,
   "id": "73b1727b-78e9-4ae1-ba13-875167700a94",
   "metadata": {},
   "outputs": [],
   "source": [
    "l4=[34,\"sudh\",45,12,\"kumar\"]"
   ]
  },
  {
   "cell_type": "code",
   "execution_count": 23,
   "id": "bc92ac90-5045-421a-a886-9991d747df8a",
   "metadata": {},
   "outputs": [],
   "source": [
    "l4=[\"sudh\",\"kumar\",\"pwskills\",\"Data science\"]"
   ]
  },
  {
   "cell_type": "code",
   "execution_count": 26,
   "id": "ce0baaef-d58b-4c4b-914e-15fb46a8d6c3",
   "metadata": {},
   "outputs": [],
   "source": [
    "l4.sort(reverse=True)"
   ]
  },
  {
   "cell_type": "code",
   "execution_count": 25,
   "id": "8110527d-cd5c-478a-a786-8deaa71a7ce7",
   "metadata": {},
   "outputs": [
    {
     "data": {
      "text/plain": [
       "['Data science', 'kumar', 'pwskills', 'sudh']"
      ]
     },
     "execution_count": 25,
     "metadata": {},
     "output_type": "execute_result"
    }
   ],
   "source": [
    "l4"
   ]
  },
  {
   "cell_type": "code",
   "execution_count": 27,
   "id": "abf6d085-020b-40cb-833c-8beb581c1e3d",
   "metadata": {},
   "outputs": [
    {
     "data": {
      "text/plain": [
       "['sudh', 'pwskills', 'kumar', 'Data science']"
      ]
     },
     "execution_count": 27,
     "metadata": {},
     "output_type": "execute_result"
    }
   ],
   "source": [
    "l4"
   ]
  },
  {
   "cell_type": "code",
   "execution_count": 29,
   "id": "23dfb705-e630-4e94-bbe3-f2aff3931cd1",
   "metadata": {},
   "outputs": [
    {
     "data": {
      "text/plain": [
       "0"
      ]
     },
     "execution_count": 29,
     "metadata": {},
     "output_type": "execute_result"
    }
   ],
   "source": [
    "l4.index(\"sudh\")"
   ]
  },
  {
   "cell_type": "code",
   "execution_count": 30,
   "id": "25f99044-765f-497f-810d-fa440bb178c0",
   "metadata": {},
   "outputs": [
    {
     "data": {
      "text/plain": [
       "1"
      ]
     },
     "execution_count": 30,
     "metadata": {},
     "output_type": "execute_result"
    }
   ],
   "source": [
    "l4.count(\"sudh\")"
   ]
  },
  {
   "cell_type": "code",
   "execution_count": 31,
   "id": "9daa42ef-6036-49dc-bb94-e770a12ad828",
   "metadata": {},
   "outputs": [],
   "source": [
    "s=\"sudh\""
   ]
  },
  {
   "cell_type": "code",
   "execution_count": 32,
   "id": "aa26c3a1-538e-45d2-b74e-b7c78912589a",
   "metadata": {},
   "outputs": [],
   "source": [
    "l5=[3,4,5,6]\n"
   ]
  },
  {
   "cell_type": "code",
   "execution_count": 34,
   "id": "6bfbede0-a464-4560-b4b3-b553a97b4ce8",
   "metadata": {},
   "outputs": [
    {
     "ename": "TypeError",
     "evalue": "'str' object does not support item assignment",
     "output_type": "error",
     "traceback": [
      "\u001b[0;31m---------------------------------------------------------------------------\u001b[0m",
      "\u001b[0;31mTypeError\u001b[0m                                 Traceback (most recent call last)",
      "Cell \u001b[0;32mIn[34], line 1\u001b[0m\n\u001b[0;32m----> 1\u001b[0m \u001b[43ms\u001b[49m\u001b[43m[\u001b[49m\u001b[38;5;241;43m0\u001b[39;49m\u001b[43m]\u001b[49m\u001b[38;5;241m=\u001b[39m\u001b[38;5;124m'\u001b[39m\u001b[38;5;124ma\u001b[39m\u001b[38;5;124m'\u001b[39m\n",
      "\u001b[0;31mTypeError\u001b[0m: 'str' object does not support item assignment"
     ]
    }
   ],
   "source": [
    "s[0]='a'"
   ]
  },
  {
   "cell_type": "code",
   "execution_count": 36,
   "id": "70811a55-73de-44e5-a52e-f36b48f36742",
   "metadata": {},
   "outputs": [],
   "source": [
    "l5[0]=30"
   ]
  },
  {
   "cell_type": "code",
   "execution_count": 37,
   "id": "ed91248c-0f3c-47a4-be75-171f14e45cbc",
   "metadata": {},
   "outputs": [
    {
     "data": {
      "text/plain": [
       "[30, 4, 5, 6]"
      ]
     },
     "execution_count": 37,
     "metadata": {},
     "output_type": "execute_result"
    }
   ],
   "source": [
    "l5"
   ]
  },
  {
   "cell_type": "code",
   "execution_count": 38,
   "id": "fb143b8e-d6db-4ff2-8d62-3394b7d0d9b3",
   "metadata": {},
   "outputs": [
    {
     "data": {
      "text/plain": [
       "'sudh'"
      ]
     },
     "execution_count": 38,
     "metadata": {},
     "output_type": "execute_result"
    }
   ],
   "source": [
    "s"
   ]
  },
  {
   "cell_type": "code",
   "execution_count": 39,
   "id": "b51e6a77-74f8-469a-b5d2-b584246b99cc",
   "metadata": {},
   "outputs": [
    {
     "data": {
      "text/plain": [
       "'audh'"
      ]
     },
     "execution_count": 39,
     "metadata": {},
     "output_type": "execute_result"
    }
   ],
   "source": [
    "s.replace('s' , 'a')"
   ]
  },
  {
   "cell_type": "code",
   "execution_count": 42,
   "id": "2c075f39-ba9b-49b3-aa50-c52a93b3c32f",
   "metadata": {},
   "outputs": [],
   "source": [
    "t=(2,3,4,\"sudh\",45.56,False,45+457j,[3,4,5])"
   ]
  },
  {
   "cell_type": "code",
   "execution_count": 41,
   "id": "f3156e8e-13f4-467e-9f3c-1189090d9dc3",
   "metadata": {},
   "outputs": [
    {
     "data": {
      "text/plain": [
       "(2, 3, 4, 'sudh', 45.56, False, (45+457j))"
      ]
     },
     "execution_count": 41,
     "metadata": {},
     "output_type": "execute_result"
    }
   ],
   "source": [
    "t"
   ]
  },
  {
   "cell_type": "code",
   "execution_count": 43,
   "id": "970145d1-4ff8-476a-a4c1-9d0757f3adfe",
   "metadata": {},
   "outputs": [
    {
     "data": {
      "text/plain": [
       "(2, 3, 4, 'sudh', 45.56, False, (45+457j), [3, 4, 5])"
      ]
     },
     "execution_count": 43,
     "metadata": {},
     "output_type": "execute_result"
    }
   ],
   "source": [
    "t"
   ]
  },
  {
   "cell_type": "code",
   "execution_count": 44,
   "id": "7bf8a51e-4f25-40f4-a9c6-b27cd3872ed4",
   "metadata": {},
   "outputs": [
    {
     "data": {
      "text/plain": [
       "tuple"
      ]
     },
     "execution_count": 44,
     "metadata": {},
     "output_type": "execute_result"
    }
   ],
   "source": [
    "type(t)"
   ]
  },
  {
   "cell_type": "code",
   "execution_count": 45,
   "id": "7baacd62-608a-4dda-9d86-3309895de685",
   "metadata": {},
   "outputs": [
    {
     "data": {
      "text/plain": [
       "8"
      ]
     },
     "execution_count": 45,
     "metadata": {},
     "output_type": "execute_result"
    }
   ],
   "source": [
    "len(t)"
   ]
  },
  {
   "cell_type": "code",
   "execution_count": 46,
   "id": "41df09f9-0887-41ea-8f7b-729f5bbbc5e9",
   "metadata": {},
   "outputs": [
    {
     "data": {
      "text/plain": [
       "2"
      ]
     },
     "execution_count": 46,
     "metadata": {},
     "output_type": "execute_result"
    }
   ],
   "source": [
    "t[0]"
   ]
  },
  {
   "cell_type": "code",
   "execution_count": 47,
   "id": "0f22ebfd-f9c8-4610-81e7-b85be57dd8c6",
   "metadata": {},
   "outputs": [
    {
     "data": {
      "text/plain": [
       "[3, 4, 5]"
      ]
     },
     "execution_count": 47,
     "metadata": {},
     "output_type": "execute_result"
    }
   ],
   "source": [
    "t[-1]"
   ]
  },
  {
   "cell_type": "code",
   "execution_count": 48,
   "id": "adc04437-7496-46d8-a4b0-5cdde7a4b20e",
   "metadata": {},
   "outputs": [
    {
     "data": {
      "text/plain": [
       "([3, 4, 5], (45+457j), False, 45.56, 'sudh', 4, 3, 2)"
      ]
     },
     "execution_count": 48,
     "metadata": {},
     "output_type": "execute_result"
    }
   ],
   "source": [
    "t[::-1]"
   ]
  },
  {
   "cell_type": "code",
   "execution_count": 49,
   "id": "3979f5ed-cce6-46b3-91ca-0f5cf4b9ed59",
   "metadata": {},
   "outputs": [
    {
     "data": {
      "text/plain": [
       "['sudh', 'pwskills', 'kumar', 'Data science']"
      ]
     },
     "execution_count": 49,
     "metadata": {},
     "output_type": "execute_result"
    }
   ],
   "source": [
    "l4"
   ]
  },
  {
   "cell_type": "code",
   "execution_count": 51,
   "id": "8f03d5c4-f666-411a-bf0e-86015a5849ec",
   "metadata": {},
   "outputs": [],
   "source": [
    "l4[0]=2345"
   ]
  },
  {
   "cell_type": "code",
   "execution_count": 52,
   "id": "a56e4e19-b936-4529-b1fc-42560060de69",
   "metadata": {},
   "outputs": [
    {
     "data": {
      "text/plain": [
       "[2345, 'pwskills', 'kumar', 'Data science']"
      ]
     },
     "execution_count": 52,
     "metadata": {},
     "output_type": "execute_result"
    }
   ],
   "source": [
    "l4"
   ]
  },
  {
   "cell_type": "code",
   "execution_count": 53,
   "id": "2944ded3-e3ee-4d87-8a65-4746b90bb25b",
   "metadata": {},
   "outputs": [
    {
     "data": {
      "text/plain": [
       "(2, 3, 4, 'sudh', 45.56, False, (45+457j), [3, 4, 5])"
      ]
     },
     "execution_count": 53,
     "metadata": {},
     "output_type": "execute_result"
    }
   ],
   "source": [
    "t"
   ]
  },
  {
   "cell_type": "code",
   "execution_count": 54,
   "id": "47f2f426-df9e-4b44-b62d-55acfcb7f72c",
   "metadata": {},
   "outputs": [
    {
     "ename": "TypeError",
     "evalue": "'tuple' object does not support item assignment",
     "output_type": "error",
     "traceback": [
      "\u001b[0;31m---------------------------------------------------------------------------\u001b[0m",
      "\u001b[0;31mTypeError\u001b[0m                                 Traceback (most recent call last)",
      "Cell \u001b[0;32mIn[54], line 1\u001b[0m\n\u001b[0;32m----> 1\u001b[0m \u001b[43mt\u001b[49m\u001b[43m[\u001b[49m\u001b[38;5;241;43m0\u001b[39;49m\u001b[43m]\u001b[49m\u001b[38;5;241m=\u001b[39m\u001b[38;5;124m\"\u001b[39m\u001b[38;5;124msudh\u001b[39m\u001b[38;5;124m\"\u001b[39m\n",
      "\u001b[0;31mTypeError\u001b[0m: 'tuple' object does not support item assignment"
     ]
    }
   ],
   "source": [
    "t[0]=\"sudh\""
   ]
  },
  {
   "cell_type": "code",
   "execution_count": 55,
   "id": "c5aa8c7c-2640-448c-9c50-0b2e8d600ae0",
   "metadata": {},
   "outputs": [
    {
     "data": {
      "text/plain": [
       "([3, 4, 5], (45+457j), False, 45.56, 'sudh', 4, 3, 2)"
      ]
     },
     "execution_count": 55,
     "metadata": {},
     "output_type": "execute_result"
    }
   ],
   "source": [
    "t[::-1]"
   ]
  },
  {
   "cell_type": "code",
   "execution_count": 57,
   "id": "23990f35-6224-4c5b-80ae-7f5df11bd6bb",
   "metadata": {},
   "outputs": [
    {
     "data": {
      "text/plain": [
       "0"
      ]
     },
     "execution_count": 57,
     "metadata": {},
     "output_type": "execute_result"
    }
   ],
   "source": [
    "t.count(5)"
   ]
  },
  {
   "cell_type": "code",
   "execution_count": 59,
   "id": "26964737-e9d7-401b-9763-75ea6d605fb6",
   "metadata": {},
   "outputs": [
    {
     "data": {
      "text/plain": [
       "5"
      ]
     },
     "execution_count": 59,
     "metadata": {},
     "output_type": "execute_result"
    }
   ],
   "source": [
    "t.index(False)"
   ]
  },
  {
   "cell_type": "code",
   "execution_count": 60,
   "id": "701061a4-5ec9-490d-9e68-6701b909349a",
   "metadata": {},
   "outputs": [
    {
     "data": {
      "text/plain": [
       "(2, 3, 4, 'sudh', 45.56, False, (45+457j), [3, 4, 5])"
      ]
     },
     "execution_count": 60,
     "metadata": {},
     "output_type": "execute_result"
    }
   ],
   "source": [
    "t"
   ]
  },
  {
   "cell_type": "code",
   "execution_count": 61,
   "id": "b2b18fbc-8ba4-4e47-b9d7-6a9f62eaeb26",
   "metadata": {},
   "outputs": [],
   "source": [
    "s1={}"
   ]
  },
  {
   "cell_type": "code",
   "execution_count": 62,
   "id": "c695b32d-88ab-46eb-82d3-422ace6c966e",
   "metadata": {},
   "outputs": [
    {
     "data": {
      "text/plain": [
       "dict"
      ]
     },
     "execution_count": 62,
     "metadata": {},
     "output_type": "execute_result"
    }
   ],
   "source": [
    "type(s1)"
   ]
  },
  {
   "cell_type": "code",
   "execution_count": 63,
   "id": "e6d5d7ba-54a8-4d5b-97c7-0cb78888b0fb",
   "metadata": {},
   "outputs": [],
   "source": [
    "s2={2,3,4,55,6}"
   ]
  },
  {
   "cell_type": "code",
   "execution_count": 64,
   "id": "32a11eac-1c05-48ea-8a0b-fd4dd20ce864",
   "metadata": {},
   "outputs": [
    {
     "data": {
      "text/plain": [
       "set"
      ]
     },
     "execution_count": 64,
     "metadata": {},
     "output_type": "execute_result"
    }
   ],
   "source": [
    "type(s2)"
   ]
  },
  {
   "cell_type": "code",
   "execution_count": 66,
   "id": "7eb269a9-cfa3-4a7e-a2c9-fca6de3288fb",
   "metadata": {},
   "outputs": [],
   "source": [
    "s3={24,546,456,\"sudh\",45+45j,34.56,(2,3,4)}"
   ]
  },
  {
   "cell_type": "code",
   "execution_count": 67,
   "id": "0903dcd5-4935-45fe-8934-ba0cc427de43",
   "metadata": {},
   "outputs": [
    {
     "data": {
      "text/plain": [
       "{(2, 3, 4), (45+45j), 24, 34.56, 456, 546, 'sudh'}"
      ]
     },
     "execution_count": 67,
     "metadata": {},
     "output_type": "execute_result"
    }
   ],
   "source": [
    "s3"
   ]
  },
  {
   "cell_type": "code",
   "execution_count": 75,
   "id": "3e687dde-b4d1-485d-8441-b1d0e9a76180",
   "metadata": {},
   "outputs": [],
   "source": [
    "s4={2,3,4,5,6,2,2,5,8,9,5,4,6,5,5,6,3,2,8,'Sudh','sudh'}"
   ]
  },
  {
   "cell_type": "code",
   "execution_count": 70,
   "id": "565a624c-9c6b-4acb-ac95-f4a95995a6a3",
   "metadata": {},
   "outputs": [
    {
     "data": {
      "text/plain": [
       "{2, 3, 4, 5, 6, 8, 9}"
      ]
     },
     "execution_count": 70,
     "metadata": {},
     "output_type": "execute_result"
    }
   ],
   "source": [
    "s4"
   ]
  },
  {
   "cell_type": "code",
   "execution_count": 72,
   "id": "3655342e-e644-4007-afd2-ac1d2e9861bb",
   "metadata": {},
   "outputs": [
    {
     "data": {
      "text/plain": [
       "{2, 3, 4, 5, 6, 8, 9, 'sudh'}"
      ]
     },
     "execution_count": 72,
     "metadata": {},
     "output_type": "execute_result"
    }
   ],
   "source": [
    "s4"
   ]
  },
  {
   "cell_type": "code",
   "execution_count": 74,
   "id": "558f282c-ede0-494e-b6f9-9e6b769729b1",
   "metadata": {},
   "outputs": [
    {
     "data": {
      "text/plain": [
       "{2, 3, 4, 5, 6, 8, 9, 'sudh'}"
      ]
     },
     "execution_count": 74,
     "metadata": {},
     "output_type": "execute_result"
    }
   ],
   "source": [
    "s4"
   ]
  },
  {
   "cell_type": "code",
   "execution_count": 76,
   "id": "51e128c4-1b9e-4fea-86a7-a7dfc19bfe97",
   "metadata": {},
   "outputs": [
    {
     "data": {
      "text/plain": [
       "{2, 3, 4, 5, 6, 8, 9, 'Sudh', 'sudh'}"
      ]
     },
     "execution_count": 76,
     "metadata": {},
     "output_type": "execute_result"
    }
   ],
   "source": [
    "s4"
   ]
  },
  {
   "cell_type": "code",
   "execution_count": 77,
   "id": "b0520798-1b5d-4c30-a563-72eafaa73f79",
   "metadata": {},
   "outputs": [],
   "source": [
    "l6=[2,3,4,5,6,2,2,5,8,9,5,4,6,5,5,6,3,2,8,'Sudh','sudh']"
   ]
  },
  {
   "cell_type": "code",
   "execution_count": 79,
   "id": "cf5fd168-c0d7-4e47-9530-81a0b61ad1e0",
   "metadata": {},
   "outputs": [],
   "source": [
    "l6=list(set(l6))"
   ]
  },
  {
   "cell_type": "code",
   "execution_count": 80,
   "id": "238fb8e2-68d2-4aaa-9c0d-f499d9b9ae5a",
   "metadata": {},
   "outputs": [
    {
     "data": {
      "text/plain": [
       "[2, 3, 4, 5, 6, 'sudh', 8, 9, 'Sudh']"
      ]
     },
     "execution_count": 80,
     "metadata": {},
     "output_type": "execute_result"
    }
   ],
   "source": [
    "l6"
   ]
  },
  {
   "cell_type": "code",
   "execution_count": 81,
   "id": "d2a4eb21-121b-4cfc-883a-8f5e5472653c",
   "metadata": {},
   "outputs": [],
   "source": [
    "s5= {234,45,23,45,2,\"abc\",456,342,23}"
   ]
  },
  {
   "cell_type": "code",
   "execution_count": 82,
   "id": "2d089b08-6056-4157-ac01-e908643d8470",
   "metadata": {},
   "outputs": [
    {
     "data": {
      "text/plain": [
       "{2, 23, 234, 342, 45, 456, 'abc'}"
      ]
     },
     "execution_count": 82,
     "metadata": {},
     "output_type": "execute_result"
    }
   ],
   "source": [
    "s5"
   ]
  },
  {
   "cell_type": "code",
   "execution_count": 83,
   "id": "6fa0b66d-80e9-4854-bb11-2f462f10d4e0",
   "metadata": {},
   "outputs": [
    {
     "data": {
      "text/plain": [
       "{2, 23, 234, 342, 45, 456, 'abc'}"
      ]
     },
     "execution_count": 83,
     "metadata": {},
     "output_type": "execute_result"
    }
   ],
   "source": [
    "s5"
   ]
  },
  {
   "cell_type": "markdown",
   "id": "b28ca53c-4afc-487b-8b6e-ccd792cea18b",
   "metadata": {},
   "source": [
    "s5.add()"
   ]
  },
  {
   "cell_type": "code",
   "execution_count": 84,
   "id": "0f7d277a-f4e5-47cd-adce-0cd98a4e2a06",
   "metadata": {},
   "outputs": [],
   "source": [
    "s5.add(4)"
   ]
  },
  {
   "cell_type": "code",
   "execution_count": 85,
   "id": "6f907c2c-7c56-48f4-9a26-6767791e7108",
   "metadata": {},
   "outputs": [
    {
     "data": {
      "text/plain": [
       "{2, 23, 234, 342, 4, 45, 456, 'abc'}"
      ]
     },
     "execution_count": 85,
     "metadata": {},
     "output_type": "execute_result"
    }
   ],
   "source": [
    "s5"
   ]
  },
  {
   "cell_type": "code",
   "execution_count": 86,
   "id": "ac0a5554-02ae-4477-8db4-417f67311ea5",
   "metadata": {},
   "outputs": [],
   "source": [
    "s5.remove(2)"
   ]
  },
  {
   "cell_type": "code",
   "execution_count": 87,
   "id": "bc6d2784-c307-420a-9cdc-0ae7b3d8b4c5",
   "metadata": {},
   "outputs": [
    {
     "data": {
      "text/plain": [
       "{23, 234, 342, 4, 45, 456, 'abc'}"
      ]
     },
     "execution_count": 87,
     "metadata": {},
     "output_type": "execute_result"
    }
   ],
   "source": [
    "s5"
   ]
  },
  {
   "cell_type": "code",
   "execution_count": 1,
   "id": "ea71877a-d532-4a03-b3ea-496a3177b495",
   "metadata": {},
   "outputs": [],
   "source": [
    "d={}"
   ]
  },
  {
   "cell_type": "code",
   "execution_count": 2,
   "id": "10f691a6-b9be-4046-9e45-1c3ad8232148",
   "metadata": {},
   "outputs": [
    {
     "data": {
      "text/plain": [
       "dict"
      ]
     },
     "execution_count": 2,
     "metadata": {},
     "output_type": "execute_result"
    }
   ],
   "source": [
    "type(d)"
   ]
  },
  {
   "cell_type": "code",
   "execution_count": 3,
   "id": "ae603439-2147-4dff-8580-abe102ddec12",
   "metadata": {},
   "outputs": [],
   "source": [
    "d1 = {'key':\"sudh\"}"
   ]
  },
  {
   "cell_type": "code",
   "execution_count": 4,
   "id": "94f19fd1-30a2-40fe-9b27-35c9cc8ebdf1",
   "metadata": {},
   "outputs": [
    {
     "data": {
      "text/plain": [
       "{'key': 'sudh'}"
      ]
     },
     "execution_count": 4,
     "metadata": {},
     "output_type": "execute_result"
    }
   ],
   "source": [
    "d1"
   ]
  },
  {
   "cell_type": "code",
   "execution_count": 5,
   "id": "0a4891ee-06e0-41f4-aebe-7f0db74324c0",
   "metadata": {},
   "outputs": [],
   "source": [
    "d2 = {'name':\"Rohit\", \"email\": \"sex@yahoo.com\", \"number\" : 555665982369}"
   ]
  },
  {
   "cell_type": "code",
   "execution_count": 6,
   "id": "aa36fb70-c404-43fd-94f9-5c60d79a247c",
   "metadata": {},
   "outputs": [
    {
     "data": {
      "text/plain": [
       "{'name': 'Rohit', 'email': 'sex@yahoo.com', 'number': 555665982369}"
      ]
     },
     "execution_count": 6,
     "metadata": {},
     "output_type": "execute_result"
    }
   ],
   "source": [
    "d2"
   ]
  },
  {
   "cell_type": "code",
   "execution_count": 11,
   "id": "03d84caf-e7d1-468c-be56-bc501d0a4e29",
   "metadata": {},
   "outputs": [],
   "source": [
    "d3 = {234:\"sudh\", \"@dewe\":1233, True : 5656565}"
   ]
  },
  {
   "cell_type": "code",
   "execution_count": 8,
   "id": "bffcba29-6e01-473a-964b-abce5fe9a5d5",
   "metadata": {},
   "outputs": [
    {
     "data": {
      "text/plain": [
       "{234: 'sudh'}"
      ]
     },
     "execution_count": 8,
     "metadata": {},
     "output_type": "execute_result"
    }
   ],
   "source": [
    "d3"
   ]
  },
  {
   "cell_type": "code",
   "execution_count": 12,
   "id": "f4912653-2a37-444c-813a-5816a86883b8",
   "metadata": {},
   "outputs": [
    {
     "data": {
      "text/plain": [
       "{234: 'sudh', '@dewe': 1233, True: 5656565}"
      ]
     },
     "execution_count": 12,
     "metadata": {},
     "output_type": "execute_result"
    }
   ],
   "source": [
    "d3"
   ]
  },
  {
   "cell_type": "code",
   "execution_count": 14,
   "id": "f33a1ef3-2ec9-4505-8c77-e117d5fa4917",
   "metadata": {},
   "outputs": [
    {
     "data": {
      "text/plain": [
       "'sudh'"
      ]
     },
     "execution_count": 14,
     "metadata": {},
     "output_type": "execute_result"
    }
   ],
   "source": [
    "d3[234]"
   ]
  },
  {
   "cell_type": "code",
   "execution_count": 15,
   "id": "d6a278c4-f0d9-48dc-8b8c-22a77e350fdc",
   "metadata": {},
   "outputs": [
    {
     "data": {
      "text/plain": [
       "5656565"
      ]
     },
     "execution_count": 15,
     "metadata": {},
     "output_type": "execute_result"
    }
   ],
   "source": [
    "d3[True]"
   ]
  },
  {
   "cell_type": "code",
   "execution_count": 16,
   "id": "72dacab0-7b96-4df8-ac78-15e48ada9b93",
   "metadata": {},
   "outputs": [
    {
     "data": {
      "text/plain": [
       "5656565"
      ]
     },
     "execution_count": 16,
     "metadata": {},
     "output_type": "execute_result"
    }
   ],
   "source": [
    "d3[1]"
   ]
  },
  {
   "cell_type": "code",
   "execution_count": 17,
   "id": "928d3494-e590-4cf9-87e8-b4c1276cbdb9",
   "metadata": {},
   "outputs": [],
   "source": [
    "d4={'name':\"sudh\",\"mail_id\":\"SS@gmail.com\", \"name\":\"Rohit\"}"
   ]
  },
  {
   "cell_type": "code",
   "execution_count": 18,
   "id": "dc1ccd45-0bdc-40e0-92e2-a3beb71d0a3b",
   "metadata": {},
   "outputs": [
    {
     "data": {
      "text/plain": [
       "'Rohit'"
      ]
     },
     "execution_count": 18,
     "metadata": {},
     "output_type": "execute_result"
    }
   ],
   "source": [
    "d4['name']"
   ]
  },
  {
   "cell_type": "code",
   "execution_count": 19,
   "id": "c215c72e-73a7-480b-b775-7ac5b5f967ab",
   "metadata": {},
   "outputs": [],
   "source": [
    "d5={\"company\":\"pwskills\", \"course\":[\"web dev\",\"data scinece\"]}"
   ]
  },
  {
   "cell_type": "code",
   "execution_count": 20,
   "id": "0e06f72a-24ba-4029-a447-8696a9af8aca",
   "metadata": {},
   "outputs": [
    {
     "data": {
      "text/plain": [
       "{'company': 'pwskills', 'course': ['web dev', 'data scinece']}"
      ]
     },
     "execution_count": 20,
     "metadata": {},
     "output_type": "execute_result"
    }
   ],
   "source": [
    "d5"
   ]
  },
  {
   "cell_type": "code",
   "execution_count": 22,
   "id": "3aad182c-6420-478d-a6d4-c3c54b9af37c",
   "metadata": {},
   "outputs": [
    {
     "data": {
      "text/plain": [
       "'data scinece'"
      ]
     },
     "execution_count": 22,
     "metadata": {},
     "output_type": "execute_result"
    }
   ],
   "source": [
    "d5['course'][1]"
   ]
  },
  {
   "cell_type": "code",
   "execution_count": 27,
   "id": "869b695c-39d7-4bd7-b3cf-375a3c055f01",
   "metadata": {},
   "outputs": [],
   "source": [
    "d6={\"number\":[2,3,5,34,88], \"assignment\":(1,2,3,4,5,6), \"launch_date\":{'28,12,14'}}"
   ]
  },
  {
   "cell_type": "code",
   "execution_count": 1,
   "id": "fc9ce7a7-36f0-4afc-ac7e-e72222b03538",
   "metadata": {},
   "outputs": [],
   "source": [
    "d6={\"number\":[2,3,5,34,88], \"assignment\":(1,2,3,4,5,6), \"launch_date\":{'28,12,14'}, \"class_time\":{\"web-dev\":8,\"Java with system design\":8}}"
   ]
  },
  {
   "cell_type": "code",
   "execution_count": 2,
   "id": "18f69c36-d333-4a23-b179-344d4336c480",
   "metadata": {},
   "outputs": [
    {
     "data": {
      "text/plain": [
       "{'number': [2, 3, 5, 34, 88],\n",
       " 'assignment': (1, 2, 3, 4, 5, 6),\n",
       " 'launch_date': {'28,12,14'}}"
      ]
     },
     "execution_count": 2,
     "metadata": {},
     "output_type": "execute_result"
    }
   ],
   "source": [
    "d6"
   ]
  },
  {
   "cell_type": "code",
   "execution_count": 2,
   "id": "b6e86a33-3ed2-4f43-b431-3dd7e20ac6c6",
   "metadata": {},
   "outputs": [
    {
     "data": {
      "text/plain": [
       "{'number': [2, 3, 5, 34, 88],\n",
       " 'assignment': (1, 2, 3, 4, 5, 6),\n",
       " 'launch_date': {'28,12,14'},\n",
       " 'class_time': {'web-dev': 8, 'Java with system design': 8}}"
      ]
     },
     "execution_count": 2,
     "metadata": {},
     "output_type": "execute_result"
    }
   ],
   "source": [
    "d6"
   ]
  },
  {
   "cell_type": "code",
   "execution_count": 4,
   "id": "e9e9df58-91fd-44c4-93d6-cfaaf68251c9",
   "metadata": {},
   "outputs": [
    {
     "data": {
      "text/plain": [
       "8"
      ]
     },
     "execution_count": 4,
     "metadata": {},
     "output_type": "execute_result"
    }
   ],
   "source": [
    "d6['class_time']['Java with system design']"
   ]
  },
  {
   "cell_type": "code",
   "execution_count": 5,
   "id": "dc6cb6d8-a7ea-4f58-929b-ab84264175ff",
   "metadata": {},
   "outputs": [
    {
     "data": {
      "text/plain": [
       "{'number': [2, 3, 5, 34, 88],\n",
       " 'assignment': (1, 2, 3, 4, 5, 6),\n",
       " 'launch_date': {'28,12,14'},\n",
       " 'class_time': {'web-dev': 8, 'Java with system design': 8}}"
      ]
     },
     "execution_count": 5,
     "metadata": {},
     "output_type": "execute_result"
    }
   ],
   "source": [
    "d6"
   ]
  },
  {
   "cell_type": "code",
   "execution_count": 8,
   "id": "7a2aa190-48bf-4256-b724-1f2c5efb6ab1",
   "metadata": {},
   "outputs": [],
   "source": [
    "d6['mentor']=[\"sudh\", \"krish\",\"Rohit\"]"
   ]
  },
  {
   "cell_type": "code",
   "execution_count": 7,
   "id": "c25abc50-79eb-42a6-9e28-a43d227a8cb0",
   "metadata": {},
   "outputs": [
    {
     "data": {
      "text/plain": [
       "{'number': [2, 3, 5, 34, 88],\n",
       " 'assignment': (1, 2, 3, 4, 5, 6),\n",
       " 'launch_date': {'28,12,14'},\n",
       " 'class_time': {'web-dev': 8, 'Java with system design': 8},\n",
       " 'mentor': ['sudh', 'krish', 'Rohit']}"
      ]
     },
     "execution_count": 7,
     "metadata": {},
     "output_type": "execute_result"
    }
   ],
   "source": [
    "d6"
   ]
  },
  {
   "cell_type": "code",
   "execution_count": 9,
   "id": "b0483e1a-f1f5-4e5b-95c8-348f0401ee32",
   "metadata": {},
   "outputs": [],
   "source": [
    "del d6['number']"
   ]
  },
  {
   "cell_type": "code",
   "execution_count": 10,
   "id": "c40bc132-62b5-4328-a674-43faf50994af",
   "metadata": {},
   "outputs": [
    {
     "data": {
      "text/plain": [
       "{'assignment': (1, 2, 3, 4, 5, 6),\n",
       " 'launch_date': {'28,12,14'},\n",
       " 'class_time': {'web-dev': 8, 'Java with system design': 8},\n",
       " 'mentor': ['sudh', 'krish', 'Rohit']}"
      ]
     },
     "execution_count": 10,
     "metadata": {},
     "output_type": "execute_result"
    }
   ],
   "source": [
    "d6\n"
   ]
  },
  {
   "cell_type": "code",
   "execution_count": 12,
   "id": "bd977a34-1f05-48e1-b9d4-2d71ad50c703",
   "metadata": {},
   "outputs": [
    {
     "data": {
      "text/plain": [
       "['assignment', 'launch_date', 'class_time', 'mentor']"
      ]
     },
     "execution_count": 12,
     "metadata": {},
     "output_type": "execute_result"
    }
   ],
   "source": [
    "list(d6.keys())"
   ]
  },
  {
   "cell_type": "code",
   "execution_count": 13,
   "id": "2552836e-3b44-4b5e-afbd-9cec0e13c83e",
   "metadata": {},
   "outputs": [
    {
     "data": {
      "text/plain": [
       "[(1, 2, 3, 4, 5, 6),\n",
       " {'28,12,14'},\n",
       " {'web-dev': 8, 'Java with system design': 8},\n",
       " ['sudh', 'krish', 'Rohit']]"
      ]
     },
     "execution_count": 13,
     "metadata": {},
     "output_type": "execute_result"
    }
   ],
   "source": [
    "list(d6.values())"
   ]
  },
  {
   "cell_type": "code",
   "execution_count": 15,
   "id": "21027bf8-b1e1-4f4c-a67d-f263008293a1",
   "metadata": {},
   "outputs": [
    {
     "data": {
      "text/plain": [
       "[('assignment', (1, 2, 3, 4, 5, 6)),\n",
       " ('launch_date', {'28,12,14'}),\n",
       " ('class_time', {'web-dev': 8, 'Java with system design': 8}),\n",
       " ('mentor', ['sudh', 'krish', 'Rohit'])]"
      ]
     },
     "execution_count": 15,
     "metadata": {},
     "output_type": "execute_result"
    }
   ],
   "source": [
    "list(d6.items())"
   ]
  },
  {
   "cell_type": "code",
   "execution_count": 16,
   "id": "165b2de9-35ae-4342-b8e0-07603b9bc995",
   "metadata": {},
   "outputs": [
    {
     "data": {
      "text/plain": [
       "(1, 2, 3, 4, 5, 6)"
      ]
     },
     "execution_count": 16,
     "metadata": {},
     "output_type": "execute_result"
    }
   ],
   "source": [
    "d6.pop('assignment')"
   ]
  },
  {
   "cell_type": "code",
   "execution_count": 17,
   "id": "95729b99-7c45-4c15-8868-ef7c0511de7b",
   "metadata": {},
   "outputs": [
    {
     "data": {
      "text/plain": [
       "{'launch_date': {'28,12,14'},\n",
       " 'class_time': {'web-dev': 8, 'Java with system design': 8},\n",
       " 'mentor': ['sudh', 'krish', 'Rohit']}"
      ]
     },
     "execution_count": 17,
     "metadata": {},
     "output_type": "execute_result"
    }
   ],
   "source": [
    "d6"
   ]
  },
  {
   "cell_type": "code",
   "execution_count": 18,
   "id": "19611de6-fbe7-40f6-a45d-ee7d4e533ba4",
   "metadata": {},
   "outputs": [
    {
     "ename": "TypeError",
     "evalue": "pop expected at least 1 argument, got 0",
     "output_type": "error",
     "traceback": [
      "\u001b[0;31m---------------------------------------------------------------------------\u001b[0m",
      "\u001b[0;31mTypeError\u001b[0m                                 Traceback (most recent call last)",
      "Cell \u001b[0;32mIn[18], line 1\u001b[0m\n\u001b[0;32m----> 1\u001b[0m \u001b[43md6\u001b[49m\u001b[38;5;241;43m.\u001b[39;49m\u001b[43mpop\u001b[49m\u001b[43m(\u001b[49m\u001b[43m)\u001b[49m\n",
      "\u001b[0;31mTypeError\u001b[0m: pop expected at least 1 argument, got 0"
     ]
    }
   ],
   "source": [
    "d6.pop()"
   ]
  },
  {
   "cell_type": "code",
   "execution_count": 33,
   "id": "f574de75-9c26-44d7-b2aa-a7d5edde9c75",
   "metadata": {},
   "outputs": [
    {
     "name": "stdin",
     "output_type": "stream",
     "text": [
      "enter your marks -45\n"
     ]
    },
    {
     "name": "stdout",
     "output_type": "stream",
     "text": [
      "you will be a part of A3 batch\n"
     ]
    }
   ],
   "source": [
    "marks = int(input(\"enter your marks\"))\n",
    "if marks >=80:\n",
    "    print(\"you will be a part of A0 batch\")\n",
    "elif marks >=60 and marks<80 :\n",
    "    print(\"you will be a part of A1 batch\")\n",
    "elif marks >=40 and marks <60 :\n",
    "    print(\"you will be a part of A2 batch\")\n",
    "else:\n",
    "    print(\"you will be a part of A3 batch\")\n",
    "    \n",
    "    \n",
    "    "
   ]
  },
  {
   "cell_type": "code",
   "execution_count": 29,
   "id": "7d6cc069-ed55-42b4-939e-1da4109b6d23",
   "metadata": {},
   "outputs": [
    {
     "data": {
      "text/plain": [
       "False"
      ]
     },
     "execution_count": 29,
     "metadata": {},
     "output_type": "execute_result"
    }
   ],
   "source": [
    "10 >=80"
   ]
  },
  {
   "cell_type": "code",
   "execution_count": 39,
   "id": "da01b188-eef1-449b-8b6d-d37ff1667adf",
   "metadata": {},
   "outputs": [
    {
     "name": "stdin",
     "output_type": "stream",
     "text": [
      "enter Price   1500\n"
     ]
    },
    {
     "name": "stdout",
     "output_type": "stream",
     "text": [
      "I will not Purchase\n",
      "its ok\n"
     ]
    }
   ],
   "source": [
    "price =int(input(\"enter Price  \"))\n",
    "if price  > 1000:\n",
    "    print(\"I will not Purchase\")\n",
    "    if price >5000:\n",
    "        print(\"this is too much \")\n",
    "    elif price <2000:\n",
    "        print(\"its ok\")\n",
    "\n"
   ]
  },
  {
   "cell_type": "code",
   "execution_count": 40,
   "id": "3b8510d4-37b8-4074-ae40-20367d6c1f12",
   "metadata": {},
   "outputs": [],
   "source": [
    "l = [1,2,3,3,45,6,7,8]"
   ]
  },
  {
   "cell_type": "code",
   "execution_count": 41,
   "id": "8931c883-9914-4ae0-bd0a-42c05e42a68e",
   "metadata": {},
   "outputs": [
    {
     "data": {
      "text/plain": [
       "2"
      ]
     },
     "execution_count": 41,
     "metadata": {},
     "output_type": "execute_result"
    }
   ],
   "source": [
    "l[0] +1\n"
   ]
  },
  {
   "cell_type": "code",
   "execution_count": 42,
   "id": "70b57cf1-9171-4374-b445-3d07faf92522",
   "metadata": {},
   "outputs": [],
   "source": [
    "l1=[]\n"
   ]
  },
  {
   "cell_type": "code",
   "execution_count": 44,
   "id": "c021dcdc-601e-4530-899b-e67b0f54835a",
   "metadata": {},
   "outputs": [],
   "source": [
    "l1.append(l[0] +1)\n"
   ]
  },
  {
   "cell_type": "code",
   "execution_count": 45,
   "id": "ec970c81-727b-4e7f-9064-84f0234ee4cc",
   "metadata": {},
   "outputs": [
    {
     "data": {
      "text/plain": [
       "[2]"
      ]
     },
     "execution_count": 45,
     "metadata": {},
     "output_type": "execute_result"
    }
   ],
   "source": [
    "l1\n"
   ]
  },
  {
   "cell_type": "code",
   "execution_count": 50,
   "id": "8edb9b2e-b00f-464f-8cbe-f2ba3552d4d3",
   "metadata": {},
   "outputs": [],
   "source": [
    "l = [1,2,3,3,4,5,6,7,8]"
   ]
  },
  {
   "cell_type": "code",
   "execution_count": 56,
   "id": "c5d8edb4-4079-4253-94cf-d50e9efd4027",
   "metadata": {},
   "outputs": [
    {
     "name": "stdout",
     "output_type": "stream",
     "text": [
      "2\n",
      "3\n",
      "4\n",
      "4\n",
      "5\n",
      "6\n",
      "7\n",
      "8\n",
      "9\n"
     ]
    },
    {
     "data": {
      "text/plain": [
       "[2, 3, 4, 4, 5, 6, 7, 8, 9]"
      ]
     },
     "execution_count": 56,
     "metadata": {},
     "output_type": "execute_result"
    }
   ],
   "source": [
    "l1=[]\n",
    "for i in l:\n",
    "    print(i+1)\n",
    "    l1.append(i+1)\n",
    "l1   "
   ]
  },
  {
   "cell_type": "code",
   "execution_count": 58,
   "id": "01dce0a6-9ad5-4cef-9739-435e1ffbf60a",
   "metadata": {},
   "outputs": [],
   "source": [
    "l = [\"sudh\", \"kumar\", \"pwskills\",\"course\"]"
   ]
  },
  {
   "cell_type": "code",
   "execution_count": 61,
   "id": "f0d4176f-df9c-45dc-948f-a2a162fb4538",
   "metadata": {},
   "outputs": [
    {
     "name": "stdout",
     "output_type": "stream",
     "text": [
      "sudh\n",
      "kumar\n",
      "pwskills\n",
      "course\n"
     ]
    }
   ],
   "source": [
    "l1=[]\n",
    "for i in l:\n",
    "    print(i)\n",
    "    l1.append(i.upper())"
   ]
  },
  {
   "cell_type": "markdown",
   "id": "ea1dd9f1-44d2-439f-bf27-523bd548e490",
   "metadata": {},
   "source": [
    "l1"
   ]
  },
  {
   "cell_type": "code",
   "execution_count": 62,
   "id": "4444a364-fdb2-4816-8c6a-b205bc0a31a1",
   "metadata": {},
   "outputs": [
    {
     "data": {
      "text/plain": [
       "['SUDH', 'KUMAR', 'PWSKILLS', 'COURSE']"
      ]
     },
     "execution_count": 62,
     "metadata": {},
     "output_type": "execute_result"
    }
   ],
   "source": [
    "l1"
   ]
  },
  {
   "cell_type": "code",
   "execution_count": 63,
   "id": "32e3279e-1b4d-4cab-a14d-9f33c47a8ed0",
   "metadata": {},
   "outputs": [],
   "source": [
    "l = [1,2,3,4,4,\"sudh\", \"kumar\", 324,34.56,\"abc\"]"
   ]
  },
  {
   "cell_type": "code",
   "execution_count": 64,
   "id": "9f22af01-5747-4797-b9ba-c0980e0c0430",
   "metadata": {},
   "outputs": [],
   "source": [
    "l1_num=[]\n",
    "l2_str=[]\n",
    "for i in l:\n",
    "    if type(i) == int or type (i) == float:\n",
    "        l1_num.append(i)\n",
    "    else:\n",
    "        l2_str.append(i)\n",
    "    "
   ]
  },
  {
   "cell_type": "code",
   "execution_count": 65,
   "id": "a74634c4-698a-4bfa-a0fb-4c938bdc4607",
   "metadata": {},
   "outputs": [
    {
     "data": {
      "text/plain": [
       "[1, 2, 3, 4, 4, 324, 34.56]"
      ]
     },
     "execution_count": 65,
     "metadata": {},
     "output_type": "execute_result"
    }
   ],
   "source": [
    "l1_num"
   ]
  },
  {
   "cell_type": "code",
   "execution_count": 66,
   "id": "68d34b02-39f7-4d9a-88d3-475d77279c1f",
   "metadata": {},
   "outputs": [
    {
     "data": {
      "text/plain": [
       "['sudh', 'kumar', 'abc']"
      ]
     },
     "execution_count": 66,
     "metadata": {},
     "output_type": "execute_result"
    }
   ],
   "source": [
    "l2_str"
   ]
  },
  {
   "cell_type": "code",
   "execution_count": null,
   "id": "2281ba46-fab7-4634-992b-77fc26a31ed8",
   "metadata": {},
   "outputs": [],
   "source": []
  }
 ],
 "metadata": {
  "kernelspec": {
   "display_name": "Python 3 (ipykernel)",
   "language": "python",
   "name": "python3"
  },
  "language_info": {
   "codemirror_mode": {
    "name": "ipython",
    "version": 3
   },
   "file_extension": ".py",
   "mimetype": "text/x-python",
   "name": "python",
   "nbconvert_exporter": "python",
   "pygments_lexer": "ipython3",
   "version": "3.10.8"
  }
 },
 "nbformat": 4,
 "nbformat_minor": 5
}
